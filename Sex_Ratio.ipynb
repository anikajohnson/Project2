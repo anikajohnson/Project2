{
 "cells": [
  {
   "cell_type": "code",
   "execution_count": null,
   "metadata": {},
   "outputs": [],
   "source": [
    "# Dependencies\n",
    "import pandas as pd\n",
    "from sqlalchemy import create_engine\n",
    "from sqlalchemy import Column, Integer, String, Float\n",
    "import datetime as date"
   ]
  },
  {
   "cell_type": "markdown",
   "metadata": {},
   "source": [
    "### Extract and format data"
   ]
  },
  {
   "cell_type": "code",
   "execution_count": null,
   "metadata": {},
   "outputs": [],
   "source": [
    "# Save data from path in new variable\n",
    "sexRatio = \"data/sex-ratio-by-age.csv\"\n",
    "\n",
    "# Use Pandas to read female data\n",
    "ratio_df = pd.read_csv(sexRatio)\n",
    "ratio_df = ratio_df[ratio_df['Code'] == 'USA']\n",
    "ratio_df.describe()"
   ]
  },
  {
   "cell_type": "code",
   "execution_count": null,
   "metadata": {},
   "outputs": [],
   "source": [
    "# rename the columns\n",
    "clean_df = ratio_df.rename(columns={'100-year olds (males per 100 females)':'100-year olds','15-year olds (males per 100 females)':'15-year olds',\n",
    "                                    '20-year olds (males per 100 females)':'20-year olds','30-year olds (males per 100 females)':'30-year olds',\n",
    "                                    '40-year olds (males per 100 females)':'40-year olds','50-year olds (males per 100 females)':'50-year olds',\n",
    "                                    '60-year olds (males per 100 females)':'60-year olds','70-year olds (males per 100 females)':'70-year olds',\n",
    "                                    '80-year olds (males per 100 females)':'80-year olds','90-year olds (males per 100 females)':'90-year olds'})\n",
    "\n",
    "# new df columns \n",
    "new_ratio_df = clean_df[['Year','15-year olds','20-year olds','30-year olds','40-year olds','50-year olds','60-year olds',\n",
    "                         '70-year olds','80-year olds','90-year olds','100-year olds']].copy()\n",
    "new_ratio_df"
   ]
  },
  {
   "cell_type": "code",
   "execution_count": null,
   "metadata": {},
   "outputs": [],
   "source": [
    "# clean up the data... change the type\n",
    "\n",
    "#new_ratio_df['15-year olds'] = new_ratio_df['15-year olds'].astype('float').round().astype('int')\n",
    "#new_ratio_df['20-year olds'] = new_ratio_df['20-year olds'].astype('float').round().astype('int')\n",
    "\n",
    "new_ratio_df"
   ]
  },
  {
   "cell_type": "code",
   "execution_count": null,
   "metadata": {},
   "outputs": [],
   "source": []
  }
 ],
 "metadata": {
  "kernelspec": {
   "display_name": "Python 3",
   "language": "python",
   "name": "python3"
  },
  "language_info": {
   "codemirror_mode": {
    "name": "ipython",
    "version": 3
   },
   "file_extension": ".py",
   "mimetype": "text/x-python",
   "name": "python",
   "nbconvert_exporter": "python",
   "pygments_lexer": "ipython3",
   "version": "3.6.9"
  }
 },
 "nbformat": 4,
 "nbformat_minor": 2
}
